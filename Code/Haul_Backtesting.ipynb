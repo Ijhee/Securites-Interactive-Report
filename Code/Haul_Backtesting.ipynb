{
 "cells": [
  {
   "cell_type": "code",
   "execution_count": null,
   "metadata": {
    "id": "gpc8o7gUmw4Z"
   },
   "outputs": [],
   "source": [
    "import bt\n",
    "import backtesting\n",
    "import pandas as pd\n",
    "from tqdm import tqdm\n",
    "import numpy as np"
   ]
  },
  {
   "cell_type": "markdown",
   "metadata": {},
   "source": [
    "### 1. Upload Data"
   ]
  },
  {
   "cell_type": "code",
   "execution_count": 9,
   "metadata": {
    "id": "tZj8ogDetw44"
   },
   "outputs": [],
   "source": [
    "data_path = '/Users/ljhee/Desktop/BOAZ/Fintshift/Data/'\n",
    "\n",
    "price_stable_final = pd.read_csv(f'{data_path}안정성_주가_백테스트용.csv')\n",
    "price_value_final = pd.read_csv(f'{data_path}가치성_주가_백테스트용.csv')\n",
    "price_grow_final = pd.read_csv(f'{data_path}성장성_주가_백테스트용.csv')\n",
    "price_cost_final = pd.read_csv(f'{data_path}수익성_주가_백테스트용.csv')"
   ]
  },
  {
   "cell_type": "code",
   "execution_count": null,
   "metadata": {
    "id": "y6tVu1PTxUCM"
   },
   "outputs": [],
   "source": [
    "df = pd.concat([price_stable_final,price_value_final,price_grow_final,price_cost_final],axis=1)"
   ]
  },
  {
   "cell_type": "code",
   "execution_count": 11,
   "metadata": {
    "id": "bxTgHDsPP0KP",
    "scrolled": false
   },
   "outputs": [
    {
     "name": "stderr",
     "output_type": "stream",
     "text": [
      "/var/folders/lf/cj47lqmj29jccg4zzhvws_tr0000gn/T/ipykernel_52901/706449337.py:1: DtypeWarning: Columns (0) have mixed types. Specify dtype option on import or set low_memory=False.\n",
      "  cost = pd.read_csv(f\"{data_path}15_23_주가데이터_1201.csv\")\n"
     ]
    }
   ],
   "source": [
    "cost = pd.read_csv(f\"{data_path}15_23_주가데이터_1201.csv\")\n",
    "\n",
    "cost['stock_code'] =  [str(num).zfill(6) for num in cost['stock_code']]\n",
    "\n",
    "#### 주가 데이터 16년도부터로 변경\n",
    "date = cost['Date'].str.split('-')\n",
    "idx=[]\n",
    "for i,d in enumerate(date):\n",
    "     if d[0] != '2015':\n",
    "        idx.append(i)\n",
    "\n",
    "cost = cost.iloc[idx,:]"
   ]
  },
  {
   "cell_type": "markdown",
   "metadata": {},
   "source": [
    "### 2. Buy and Hold"
   ]
  },
  {
   "cell_type": "code",
   "execution_count": null,
   "metadata": {},
   "outputs": [],
   "source": [
    "strategy = bt.Strategy(\"Asset_EW\", [\n",
    "    bt.algos.SelectAll(),\n",
    "    bt.algos.WeighEqually(),\n",
    "    bt.algos.RunOnce(),####buy and hold\n",
    "    bt.algos.Rebalance()\n",
    "])\n",
    "\n",
    "bnh_df = pd.DataFrame()\n",
    "\n",
    "for _col in df.columns:\n",
    "    data = df[[_col]].fillna(0)\n",
    "    data.index = cost[cost['stock_code']=='071670']['Date']\n",
    "    data.index = pd.to_datetime(data.index)\n",
    "    # 백테스트 생성\n",
    "    backtest = bt.Backtest(strategy, data)\n",
    "\n",
    "    # 백테스트 실행\n",
    "    result = bt.run(backtest)\n",
    "\n",
    "    ndf = result.prices.to_returns()\n",
    "    ndf.columns = [_col]\n",
    "    bnh_df = pd.concat([bnh_df,ndf],axis = 1)"
   ]
  },
  {
   "cell_type": "markdown",
   "metadata": {},
   "source": [
    "### 3. Mean Reversion Strategy"
   ]
  },
  {
   "cell_type": "code",
   "execution_count": null,
   "metadata": {},
   "outputs": [],
   "source": [
    "reg_df = pd.DataFrame()\n",
    "\n",
    "for _col in tqdm(df.columns):\n",
    "    data = df[[_col]]\n",
    "    data.index = cost[cost['stock_code']=='071670']['Date']\n",
    "    data.index = pd.to_datetime(data.index)\n",
    "    \n",
    "    spy_rsi = data.apply(lambda x: talib.RSI(x, 14))\n",
    "\n",
    "    signal = spy_rsi.copy()\n",
    "    signal[spy_rsi > 70] = -1\n",
    "    signal[spy_rsi < 30] = 1\n",
    "    signal[(spy_rsi <= 70) & (spy_rsi >= 30)] = 0\n",
    "    signal[signal.isnull()] = 0\n",
    "    \n",
    "    strategy = bt.Strategy('RSI_MeanReversion',\n",
    "                       [bt.algos.WeighTarget(signal),\n",
    "                        bt.algos.Rebalance()])\n",
    "    \n",
    "    backtest = bt.Backtest(strategy, data)\n",
    "    result = bt.run(backtest)\n",
    "    \n",
    "    ndf = result.prices.to_returns()\n",
    "    ndf.columns = [_col]\n",
    "    reg_df = pd.concat([reg_df,ndf],axis = 1)"
   ]
  },
  {
   "cell_type": "code",
   "execution_count": null,
   "metadata": {},
   "outputs": [],
   "source": [
    "reg_df.to_csv(f'{data_path}개별주식_평균회귀.csv',index=False)"
   ]
  },
  {
   "cell_type": "markdown",
   "metadata": {},
   "source": [
    "### 4. Moving Average Crossover"
   ]
  },
  {
   "cell_type": "code",
   "execution_count": null,
   "metadata": {
    "id": "0Z30Ass9RbPd"
   },
   "outputs": [],
   "source": [
    "class SelectWhere(bt.Algo):\n",
    "\n",
    "    \"\"\"\n",
    "    Selects securities based on an indicator DataFrame.\n",
    "\n",
    "    Selects securities where the value is True on the current date (target.now).\n",
    "\n",
    "    Args:\n",
    "        * signal (DataFrame): DataFrame containing the signal (boolean DataFrame)\n",
    "\n",
    "    Sets:\n",
    "        * selected\n",
    "\n",
    "    \"\"\"\n",
    "    def __init__(self, signal):\n",
    "        self.signal = signal\n",
    "\n",
    "    def __call__(self, target):\n",
    "        # get signal on target.now\n",
    "        if target.now in self.signal.index:\n",
    "            sig = self.signal.loc[target.now]\n",
    "\n",
    "            # get indices where true as list\n",
    "            selected = list(sig.index[sig])\n",
    "\n",
    "            # save in temp - this will be used by the weighing algo\n",
    "            target.temp['selected'] = selected\n",
    "\n",
    "        # return True because we want to keep on moving down the stack\n",
    "        return True"
   ]
  },
  {
   "cell_type": "code",
   "execution_count": null,
   "metadata": {},
   "outputs": [],
   "source": [
    "MAC_df = pd.DataFrame()\n",
    "\n",
    "for _col in tqdm(df.columns):\n",
    "    data = df[[_col]].fillna(0)\n",
    "    data.index = cost[cost['stock_code']=='071670']['Date']\n",
    "    data.index = pd.to_datetime(data.index)\n",
    "\n",
    "    sma = data.rolling(50).mean()\n",
    "\n",
    "    signal = data > sma\n",
    "    # 백테스트 생성\n",
    "\n",
    "    MAC = bt.Strategy('above50sma', [SelectWhere(data > sma),\n",
    "                               bt.algos.WeighEqually(),\n",
    "                               bt.algos.Rebalance()])\n",
    "    \n",
    "    backtest = bt.Backtest(MAC, data)\n",
    "\n",
    "    # 백테스트 실행\n",
    "    result = bt.run(backtest)\n",
    "\n",
    "    ndf = result.prices.to_returns()\n",
    "    ndf.columns = [_col]\n",
    "    MAC_df = pd.concat([MAC_df,ndf],axis = 1)"
   ]
  },
  {
   "cell_type": "markdown",
   "metadata": {},
   "source": [
    "### 5. Data for three strategies (Buy and hold, Mean Reversion Stragey, Moving Average Crossover)"
   ]
  },
  {
   "cell_type": "code",
   "execution_count": null,
   "metadata": {},
   "outputs": [],
   "source": [
    "stock = pd.read_excel(f'{data_path}2_dartdata_variable_1222.xlsx')\n",
    "stock = stock[['종목코드','종목명']]\n",
    "stock.drop_duplicates(inplace=True)\n",
    "stock_dic = dict(zip(stock['종목코드'], stock['종목명']))\n",
    "reg_df['variable'].map(stock_dic)"
   ]
  },
  {
   "cell_type": "code",
   "execution_count": null,
   "metadata": {},
   "outputs": [],
   "source": [
    "reg_df = pd.read_csv(f'{data_path}개별주식_평균회귀.csv')\n",
    "mac_df = pd.read_csv(f'{data_path}개별주식_동적평균거래.csv')\n",
    "bh = pd.read_csv(f'{data_path}개별주식_buy_and_hold.csv')"
   ]
  },
  {
   "cell_type": "code",
   "execution_count": null,
   "metadata": {
    "scrolled": true
   },
   "outputs": [],
   "source": [
    "mac_df = mac_df.melt()\n",
    "mac_df['투자전략'] = '평균회귀'\n",
    "mac_df['time'] = list(ndf.index)*2430\n",
    "mac_df['variable'] = mac_df['variable'].map(stock_dic)\n",
    "reg_df = reg_df.melt()\n",
    "reg_df['투자전략'] = '동적평균거래'\n",
    "reg_df['time'] = list(ndf.index)*2430\n",
    "reg_df['variable'] = reg_df['variable'].map(stock_dic)\n",
    "bh = bh.melt()\n",
    "bh['투자전략'] = 'buy and hold'\n",
    "bh['time'] = list(ndf.index)*2430\n",
    "bh['variable'] = bh['variable'].map(stock_dic)"
   ]
  },
  {
   "cell_type": "code",
   "execution_count": null,
   "metadata": {},
   "outputs": [],
   "source": [
    "final = pd.concat([mac_df,reg_df,bh],axis=0)\n",
    "final.columns = ['종목명','수익률','투자전략','시점']\n",
    "final.to_csv(f'{data_path}개별주식_투자전략3개.csv',index=False)"
   ]
  }
 ],
 "metadata": {
  "colab": {
   "private_outputs": true,
   "provenance": []
  },
  "kernelspec": {
   "display_name": "Python 3 (ipykernel)",
   "language": "python",
   "name": "python3"
  },
  "language_info": {
   "codemirror_mode": {
    "name": "ipython",
    "version": 3
   },
   "file_extension": ".py",
   "mimetype": "text/x-python",
   "name": "python",
   "nbconvert_exporter": "python",
   "pygments_lexer": "ipython3",
   "version": "3.11.3"
  }
 },
 "nbformat": 4,
 "nbformat_minor": 1
}
